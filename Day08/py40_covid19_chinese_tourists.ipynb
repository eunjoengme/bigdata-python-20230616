{
 "cells": [
  {
   "attachments": {},
   "cell_type": "markdown",
   "metadata": {},
   "source": [
    "#### 코로나 바이러스 영향으로 중국인 관광객 증감분석\n",
    "\n",
    "##### 외국인 출입국 통계 데이터\n",
    "\n",
    "한국관공 데이터랩 : https://datalab.visitkorea.or.kr/"
   ]
  },
  {
   "cell_type": "code",
   "execution_count": null,
   "metadata": {},
   "outputs": [],
   "source": [
    "kto_201901 = []"
   ]
  },
  {
   "cell_type": "code",
   "execution_count": null,
   "metadata": {},
   "outputs": [],
   "source": [
    "# df 에 기준년월 추가\n",
    "kto_201901['기준년월'] = '2019-01'\n",
    "kto_201901.tail()"
   ]
  },
  {
   "cell_type": "code",
   "execution_count": null,
   "metadata": {},
   "outputs": [],
   "source": [
    "#  국적데이터만 67개 중\n",
    "# unique() 는 numpy.ndarray 변환\n",
    "# 원래 67개, unique() 67개 (의미 없음)\n",
    "kto_201901['국적'].unique().size"
   ]
  },
  {
   "cell_type": "code",
   "execution_count": 4,
   "metadata": {},
   "outputs": [
    {
     "data": {
      "text/plain": [
       "['아시아주', '미주', '구주', '대양주', '아프리카주', '기타대륙', '교포소계']"
      ]
     },
     "execution_count": 4,
     "metadata": {},
     "output_type": "execute_result"
    }
   ],
   "source": [
    "# 대륙목록\n",
    "contients_list = ['아시아주', '미주', '구주', '대양주', '아프리카주', '기타대륙', '교포소계']\n",
    "# '미주'.strip()[-1] == '주'\n",
    "contients_list"
   ]
  },
  {
   "cell_type": "code",
   "execution_count": null,
   "metadata": {},
   "outputs": [],
   "source": [
    "# kto_201901[(kto_201901.국적.isin(contients_list) == False)]\n",
    "kto_201901[(kto_201901.국적.isin(contients_list) == False)]"
   ]
  },
  {
   "cell_type": "code",
   "execution_count": null,
   "metadata": {},
   "outputs": [],
   "source": [
    "kto_201901_country = kto_201901[(kto_201901.국적.isin(contients_list) == False)]\n",
    "kto_201901_country"
   ]
  }
 ],
 "metadata": {
  "kernelspec": {
   "display_name": "Python 3",
   "language": "python",
   "name": "python3"
  },
  "language_info": {
   "codemirror_mode": {
    "name": "ipython",
    "version": 3
   },
   "file_extension": ".py",
   "mimetype": "text/x-python",
   "name": "python",
   "nbconvert_exporter": "python",
   "pygments_lexer": "ipython3",
   "version": "3.11.4"
  },
  "orig_nbformat": 4,
  "vscode": {
   "interpreter": {
    "hash": "5238573367df39f7286bb46f9ff5f08f63a01a80960060ce41e3c79b190280fa"
   }
  }
 },
 "nbformat": 4,
 "nbformat_minor": 2
}
