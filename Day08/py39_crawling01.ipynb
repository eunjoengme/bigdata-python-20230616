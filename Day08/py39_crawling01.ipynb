{
 "cells": [
  {
   "attachments": {},
   "cell_type": "markdown",
   "metadata": {},
   "source": [
    "#### 멜론 순위 정보\n",
    "\n",
    "##### 크롬드라이버"
   ]
  },
  {
   "cell_type": "code",
   "execution_count": 1,
   "metadata": {},
   "outputs": [],
   "source": [
    "from selenium import webdriver\n",
    "\n",
    "driver = webdriver.Chrome()"
   ]
  },
  {
   "cell_type": "code",
   "execution_count": 2,
   "metadata": {},
   "outputs": [],
   "source": [
    "# 멜론차트로 집입\n",
    "url = 'https://www.melon.com/chart/index.htm'\n",
    "driver.get(url)"
   ]
  },
  {
   "attachments": {},
   "cell_type": "markdown",
   "metadata": {},
   "source": [
    "##### 뷰티풀스프"
   ]
  },
  {
   "cell_type": "code",
   "execution_count": 3,
   "metadata": {},
   "outputs": [
    {
     "ename": "NoSuchWindowException",
     "evalue": "Message: no such window: target window already closed\nfrom unknown error: web view not found\n  (Session info: chrome=114.0.5735.134)\nStacktrace:\nBacktrace:\n\tGetHandleVerifier [0x0112A813+48355]\n\t(No symbol) [0x010BC4B1]\n\t(No symbol) [0x00FC5358]\n\t(No symbol) [0x00FAD293]\n\t(No symbol) [0x0100E37B]\n\t(No symbol) [0x0101C473]\n\t(No symbol) [0x0100A536]\n\t(No symbol) [0x00FE82DC]\n\t(No symbol) [0x00FE93DD]\n\tGetHandleVerifier [0x0138AABD+2539405]\n\tGetHandleVerifier [0x013CA78F+2800735]\n\tGetHandleVerifier [0x013C456C+2775612]\n\tGetHandleVerifier [0x011B51E0+616112]\n\t(No symbol) [0x010C5F8C]\n\t(No symbol) [0x010C2328]\n\t(No symbol) [0x010C240B]\n\t(No symbol) [0x010B4FF7]\n\tBaseThreadInitThunk [0x77036BA9+25]\n\tRtlGetFullPathName_UEx [0x77EB8F9F+1215]\n\tRtlGetFullPathName_UEx [0x77EB8F6D+1165]\n",
     "output_type": "error",
     "traceback": [
      "\u001b[1;31m---------------------------------------------------------------------------\u001b[0m",
      "\u001b[1;31mNoSuchWindowException\u001b[0m                     Traceback (most recent call last)",
      "Cell \u001b[1;32mIn[3], line 4\u001b[0m\n\u001b[0;32m      1\u001b[0m \u001b[39m# beautifulSoup로 html 다운로드\u001b[39;00m\n\u001b[0;32m      2\u001b[0m \u001b[39mfrom\u001b[39;00m \u001b[39mbs4\u001b[39;00m \u001b[39mimport\u001b[39;00m BeautifulSoup\n\u001b[1;32m----> 4\u001b[0m html \u001b[39m=\u001b[39m driver\u001b[39m.\u001b[39;49mpage_source\n\u001b[0;32m      5\u001b[0m soup \u001b[39m=\u001b[39m BeautifulSoup(html, \u001b[39m'\u001b[39m\u001b[39mhtml.parser\u001b[39m\u001b[39m'\u001b[39m) \u001b[39m# html parser, lxml, xml, html5lib\u001b[39;00m\n",
      "File \u001b[1;32mc:\\Program Files\\Python311\\Lib\\site-packages\\selenium\\webdriver\\remote\\webdriver.py:447\u001b[0m, in \u001b[0;36mWebDriver.page_source\u001b[1;34m(self)\u001b[0m\n\u001b[0;32m    438\u001b[0m \u001b[39m@property\u001b[39m\n\u001b[0;32m    439\u001b[0m \u001b[39mdef\u001b[39;00m \u001b[39mpage_source\u001b[39m(\u001b[39mself\u001b[39m) \u001b[39m-\u001b[39m\u001b[39m>\u001b[39m \u001b[39mstr\u001b[39m:\n\u001b[0;32m    440\u001b[0m \u001b[39m    \u001b[39m\u001b[39m\"\"\"Gets the source of the current page.\u001b[39;00m\n\u001b[0;32m    441\u001b[0m \n\u001b[0;32m    442\u001b[0m \u001b[39m    :Usage:\u001b[39;00m\n\u001b[1;32m   (...)\u001b[0m\n\u001b[0;32m    445\u001b[0m \u001b[39m            driver.page_source\u001b[39;00m\n\u001b[0;32m    446\u001b[0m \u001b[39m    \"\"\"\u001b[39;00m\n\u001b[1;32m--> 447\u001b[0m     \u001b[39mreturn\u001b[39;00m \u001b[39mself\u001b[39;49m\u001b[39m.\u001b[39;49mexecute(Command\u001b[39m.\u001b[39;49mGET_PAGE_SOURCE)[\u001b[39m\"\u001b[39m\u001b[39mvalue\u001b[39m\u001b[39m\"\u001b[39m]\n",
      "File \u001b[1;32mc:\\Program Files\\Python311\\Lib\\site-packages\\selenium\\webdriver\\remote\\webdriver.py:346\u001b[0m, in \u001b[0;36mWebDriver.execute\u001b[1;34m(self, driver_command, params)\u001b[0m\n\u001b[0;32m    344\u001b[0m response \u001b[39m=\u001b[39m \u001b[39mself\u001b[39m\u001b[39m.\u001b[39mcommand_executor\u001b[39m.\u001b[39mexecute(driver_command, params)\n\u001b[0;32m    345\u001b[0m \u001b[39mif\u001b[39;00m response:\n\u001b[1;32m--> 346\u001b[0m     \u001b[39mself\u001b[39;49m\u001b[39m.\u001b[39;49merror_handler\u001b[39m.\u001b[39;49mcheck_response(response)\n\u001b[0;32m    347\u001b[0m     response[\u001b[39m\"\u001b[39m\u001b[39mvalue\u001b[39m\u001b[39m\"\u001b[39m] \u001b[39m=\u001b[39m \u001b[39mself\u001b[39m\u001b[39m.\u001b[39m_unwrap_value(response\u001b[39m.\u001b[39mget(\u001b[39m\"\u001b[39m\u001b[39mvalue\u001b[39m\u001b[39m\"\u001b[39m, \u001b[39mNone\u001b[39;00m))\n\u001b[0;32m    348\u001b[0m     \u001b[39mreturn\u001b[39;00m response\n",
      "File \u001b[1;32mc:\\Program Files\\Python311\\Lib\\site-packages\\selenium\\webdriver\\remote\\errorhandler.py:245\u001b[0m, in \u001b[0;36mErrorHandler.check_response\u001b[1;34m(self, response)\u001b[0m\n\u001b[0;32m    243\u001b[0m         alert_text \u001b[39m=\u001b[39m value[\u001b[39m\"\u001b[39m\u001b[39malert\u001b[39m\u001b[39m\"\u001b[39m]\u001b[39m.\u001b[39mget(\u001b[39m\"\u001b[39m\u001b[39mtext\u001b[39m\u001b[39m\"\u001b[39m)\n\u001b[0;32m    244\u001b[0m     \u001b[39mraise\u001b[39;00m exception_class(message, screen, stacktrace, alert_text)  \u001b[39m# type: ignore[call-arg]  # mypy is not smart enough here\u001b[39;00m\n\u001b[1;32m--> 245\u001b[0m \u001b[39mraise\u001b[39;00m exception_class(message, screen, stacktrace)\n",
      "\u001b[1;31mNoSuchWindowException\u001b[0m: Message: no such window: target window already closed\nfrom unknown error: web view not found\n  (Session info: chrome=114.0.5735.134)\nStacktrace:\nBacktrace:\n\tGetHandleVerifier [0x0112A813+48355]\n\t(No symbol) [0x010BC4B1]\n\t(No symbol) [0x00FC5358]\n\t(No symbol) [0x00FAD293]\n\t(No symbol) [0x0100E37B]\n\t(No symbol) [0x0101C473]\n\t(No symbol) [0x0100A536]\n\t(No symbol) [0x00FE82DC]\n\t(No symbol) [0x00FE93DD]\n\tGetHandleVerifier [0x0138AABD+2539405]\n\tGetHandleVerifier [0x013CA78F+2800735]\n\tGetHandleVerifier [0x013C456C+2775612]\n\tGetHandleVerifier [0x011B51E0+616112]\n\t(No symbol) [0x010C5F8C]\n\t(No symbol) [0x010C2328]\n\t(No symbol) [0x010C240B]\n\t(No symbol) [0x010B4FF7]\n\tBaseThreadInitThunk [0x77036BA9+25]\n\tRtlGetFullPathName_UEx [0x77EB8F9F+1215]\n\tRtlGetFullPathName_UEx [0x77EB8F6D+1165]\n"
     ]
    }
   ],
   "source": [
    "# beautifulSoup로 html 다운로드\n",
    "from bs4 import BeautifulSoup\n",
    "\n",
    "html = driver.page_source\n",
    "soup = BeautifulSoup(html, 'html.parser') # html parser, lxml, xml, html5lib"
   ]
  },
  {
   "cell_type": "code",
   "execution_count": null,
   "metadata": {},
   "outputs": [],
   "source": [
    "soup"
   ]
  },
  {
   "cell_type": "code",
   "execution_count": null,
   "metadata": {},
   "outputs": [
    {
     "data": {
      "text/plain": [
       "100"
      ]
     },
     "execution_count": 9,
     "metadata": {},
     "output_type": "execute_result"
    }
   ],
   "source": [
    "songs = soup.select('table > tbody > tr')\n",
    "len(songs)"
   ]
  },
  {
   "cell_type": "code",
   "execution_count": null,
   "metadata": {},
   "outputs": [],
   "source": [
    "song = songs[0]"
   ]
  },
  {
   "cell_type": "code",
   "execution_count": null,
   "metadata": {},
   "outputs": [
    {
     "data": {
      "text/plain": [
       "[<span class=\"rank\">1</span>]"
      ]
     },
     "execution_count": 15,
     "metadata": {},
     "output_type": "execute_result"
    }
   ],
   "source": [
    "song.select('span.rank')"
   ]
  },
  {
   "cell_type": "code",
   "execution_count": null,
   "metadata": {},
   "outputs": [
    {
     "data": {
      "text/plain": [
       "[<span class=\"rank\">1</span>,\n",
       " <span class=\"none\">위</span>,\n",
       " <span class=\"rank_wrap\" title=\"순위 동일\">\n",
       " <span class=\"bullet_icons rank_static\"><span class=\"none\">순위 동일</span></span>\n",
       " <span class=\"none\">0</span>\n",
       " </span>,\n",
       " <span class=\"bullet_icons rank_static\"><span class=\"none\">순위 동일</span></span>,\n",
       " <span class=\"none\">순위 동일</span>,\n",
       " <span class=\"none\">0</span>,\n",
       " <span class=\"bg_album_frame\"></span>,\n",
       " <span class=\"none\">곡정보</span>,\n",
       " <span>\n",
       " <a href=\"javascript:melon.play.playSong('1000002721',36430773);\" title=\"퀸카 (Queencard) 재생\">퀸카 (Queencard)</a>\n",
       " </span>,\n",
       " <span class=\"checkEllipsis\" style=\"display: none;\"><a href=\"javascript:melon.link.goArtistDetail('2137482');\" title=\"(여자)아이들 - 페이지 이동\">(여자)아이들</a></span>,\n",
       " <span class=\"odd_span\">좋아요</span>,\n",
       " <span class=\"cnt\">\n",
       " <span class=\"none\">총건수</span>\n",
       " 105,568</span>,\n",
       " <span class=\"none\">총건수</span>,\n",
       " <span class=\"none\">듣기</span>,\n",
       " <span class=\"none\">담기</span>,\n",
       " <span class=\"none\">다운로드</span>,\n",
       " <span class=\"none\">뮤직비디오</span>]"
      ]
     },
     "execution_count": 16,
     "metadata": {},
     "output_type": "execute_result"
    }
   ],
   "source": [
    "song.select('span')"
   ]
  },
  {
   "cell_type": "code",
   "execution_count": null,
   "metadata": {},
   "outputs": [
    {
     "data": {
      "text/plain": [
       "[<span class=\"none\">단계 상승</span>]"
      ]
     },
     "execution_count": 21,
     "metadata": {},
     "output_type": "execute_result"
    }
   ],
   "source": [
    "songs[8].select('span.rank_wrap > span > span')"
   ]
  },
  {
   "cell_type": "code",
   "execution_count": null,
   "metadata": {},
   "outputs": [
    {
     "data": {
      "text/plain": [
       "[<span class=\"up\">1</span>]"
      ]
     },
     "execution_count": 23,
     "metadata": {},
     "output_type": "execute_result"
    }
   ],
   "source": [
    "songs[8].select('span.rank_wrap > span.up')"
   ]
  },
  {
   "cell_type": "code",
   "execution_count": null,
   "metadata": {},
   "outputs": [
    {
     "data": {
      "text/plain": [
       "[<span class=\"checkEllipsis\" style=\"display: none;\"><a href=\"javascript:melon.link.goArtistDetail('994944');\" title=\"임영웅 - 페이지 이동\">임영웅</a></span>]"
      ]
     },
     "execution_count": 25,
     "metadata": {},
     "output_type": "execute_result"
    }
   ],
   "source": [
    "songs[8].select('span.checkEllipsis')"
   ]
  },
  {
   "cell_type": "code",
   "execution_count": null,
   "metadata": {},
   "outputs": [
    {
     "data": {
      "text/plain": [
       "'우리들의 블루스'"
      ]
     },
     "execution_count": 29,
     "metadata": {},
     "output_type": "execute_result"
    }
   ],
   "source": [
    "songs[8].select('span > a')[0].text"
   ]
  },
  {
   "cell_type": "code",
   "execution_count": null,
   "metadata": {},
   "outputs": [
    {
     "name": "stdout",
     "output_type": "stream",
     "text": [
      "1 퀸카 (Queencard) (여자)아이들\n",
      "2 I AM IVE (아이브)\n",
      "3 Spicy aespa\n",
      "4 이브, 프시케 그리고 푸른 수염의 아내 LE SSERAFIM (르세라핌)\n",
      "5 UNFORGIVEN (feat. Nile Rodgers) LE SSERAFIM (르세라핌)\n",
      "6 Kitsch IVE (아이브)\n",
      "7 사랑은 늘 도망가 임영웅\n",
      "8 모래 알갱이 임영웅\n",
      "9 우리들의 블루스 임영웅\n",
      "10 헤어지자 말해요 박재정\n",
      "11 다시 만날 수 있을까 임영웅\n",
      "12 Hype boy NewJeans\n",
      "13 무지개 임영웅\n",
      "14 꽃 지수 (JISOO)\n",
      "15 London Boy 임영웅\n",
      "16 손오공 세븐틴 (SEVENTEEN)\n",
      "17 이제 나만 믿어요 임영웅\n",
      "18 Polaroid 임영웅\n",
      "19 아버지 임영웅\n",
      "20 Ditto NewJeans\n",
      "21 인생찬가 임영웅\n",
      "22 A bientot 임영웅\n",
      "23 Cupid FIFTY FIFTY\n",
      "24 손이 참 곱던 그대 임영웅\n",
      "25 사랑해 진짜 임영웅\n",
      "26 연애편지 임영웅\n",
      "27 OMG NewJeans\n",
      "28 Allergy (여자)아이들\n",
      "29 사건의 지평선 윤하 (YOUNHA)\n",
      "30 파이팅 해야지 (Feat. 이영지) 부석순 (SEVENTEEN)\n",
      "31 보금자리 임영웅\n",
      "32 I Don't Think That I Like Her Charlie Puth\n",
      "33 Dangerously Charlie Puth\n",
      "34 Candy NCT DREAM\n",
      "35 After LIKE IVE (아이브)\n",
      "36 물론 허각\n",
      "37 Dynamite 방탄소년단\n",
      "38 Attention NewJeans\n",
      "39 Teddy Bear STAYC(스테이씨)\n",
      "40 LOVE DIVE IVE (아이브)\n",
      "41 심(心) DK(디셈버)\n",
      "42 Take Two 방탄소년단\n",
      "43 사랑..그게 뭔데 지아\n",
      "44 사랑하지 않아서 그랬어 임한별\n",
      "45 Butter 방탄소년단\n",
      "46 Broken Melodies NCT DREAM\n",
      "47 사람 Pt.2 (feat. 아이유) Agust D\n",
      "48 Like Crazy 지민\n",
      "49 HARD SHINee (샤이니)\n",
      "50 잠깐 시간 될까 이무진\n",
      "51 ANTIFRAGILE LE SSERAFIM (르세라핌)\n",
      "52 봄날 방탄소년단\n",
      "53 나에게 그대만이 탑현\n",
      "54 Heaven(2023) 임재현\n",
      "55 사랑인가 봐 멜로망스\n",
      "56 Permission to Dance 방탄소년단\n",
      "57 The Planet 방탄소년단\n",
      "58 사실말야내가말야그게그러니까말이야 케이시 (Kassy)\n",
      "59 찬란한 하루 멜로망스\n",
      "60 너의 모든 순간 성시경\n",
      "61 빛이 나는 너에게 던 (DAWN)\n",
      "62 NIGHT DANCER imase\n",
      "63 Angel Pt. 1 (Feat. Kodak Black, NLE Choppa, JVKE, Muni Long) Fast & Furious: The Fast Saga\n",
      "64 Dreamers [Music from the FIFA World Cup Qatar 2022 Official Soundtrack] (Feat. FIFA Sound) 정국\n",
      "65 건물 사이에 피어난 장미 (Rose Blossom) H1-KEY (하이키)\n",
      "66 Thirsty aespa\n",
      "67 첫 키스에 내 심장은 120BPM 경서\n",
      "68 사랑의 바보 제이세라\n",
      "69 KNOCK 이채연\n",
      "70 That's Hilarious Charlie Puth\n",
      "71 STAY The Kid LAROI\n",
      "72 TOMBOY (여자)아이들\n",
      "73 그중에 그대를 만나 김호중\n",
      "74 부동의 첫사랑 10CM\n",
      "75 on the street (with J. Cole) j-hope\n",
      "76 Nxde (여자)아이들\n",
      "77 한사람만 (2023) (여름날 우리 X 이홍기 (FT아일랜드)) 이홍기 (FT아일랜드)\n",
      "78 사랑하지 않아서 그랬니 지아\n",
      "79 안녕이라고 말하지마 V.O.S\n",
      "80 취중고백 김민석 (멜로망스)\n",
      "81 해요 (2022) #안녕\n",
      "82 나의 바람 (Wind And Wish) 비투비\n",
      "83 That’s Not How This Works (feat. Dan + Shay) Charlie Puth\n",
      "84 Monologue 테이\n",
      "85 CHRISTIAN Zior Park\n",
      "86 다정히 내 이름을 부르면 경서예지\n",
      "87 사랑하기 싫어 지아\n",
      "88 FRIEND THE END 볼빨간사춘기\n",
      "89 한강에서 (Feat. BIG Naughty) 폴킴\n",
      "90 LOCKDOWN 이세계아이돌\n",
      "91 Love Me Like This NMIXX\n",
      "92 그라데이션 10CM\n",
      "93 ELEVEN IVE (아이브)\n",
      "94 FEARLESS LE SSERAFIM (르세라핌)\n",
      "95 내가 아니라도 주호\n",
      "96 Shut Down BLACKPINK\n",
      "97 정이라고 하자 (Feat. 10CM) BIG Naughty (서동현)\n",
      "98 당신을 만나 김호중\n",
      "99 Say I Love You 우디 (Woody)\n",
      "100 Pink Venom BLACKPINK\n"
     ]
    }
   ],
   "source": [
    "for song in songs:\n",
    "    rank = song.select('span.rank')[0].text\n",
    "    title = song.select('span > a')[0].text\n",
    "    singer = song.select('span.checkEllipsis > a')[0].text\n",
    "    \n",
    "    print(rank, title, singer)"
   ]
  },
  {
   "cell_type": "code",
   "execution_count": null,
   "metadata": {},
   "outputs": [],
   "source": [
    "result = []\n",
    "for song in songs:\n",
    "    rank = song.select('span.rank')[0].text\n",
    "    title = song.select('span > a')[0].text\n",
    "    singer = song.select('span.checkEllipsis > a')[0].text\n",
    "    \n",
    "    result.append([rank, title, singer])"
   ]
  },
  {
   "cell_type": "code",
   "execution_count": null,
   "metadata": {},
   "outputs": [],
   "source": [
    "import pandas as pd"
   ]
  },
  {
   "cell_type": "code",
   "execution_count": null,
   "metadata": {},
   "outputs": [
    {
     "data": {
      "text/html": [
       "<div>\n",
       "<style scoped>\n",
       "    .dataframe tbody tr th:only-of-type {\n",
       "        vertical-align: middle;\n",
       "    }\n",
       "\n",
       "    .dataframe tbody tr th {\n",
       "        vertical-align: top;\n",
       "    }\n",
       "\n",
       "    .dataframe thead th {\n",
       "        text-align: right;\n",
       "    }\n",
       "</style>\n",
       "<table border=\"1\" class=\"dataframe\">\n",
       "  <thead>\n",
       "    <tr style=\"text-align: right;\">\n",
       "      <th></th>\n",
       "      <th>0</th>\n",
       "      <th>1</th>\n",
       "      <th>2</th>\n",
       "    </tr>\n",
       "  </thead>\n",
       "  <tbody>\n",
       "    <tr>\n",
       "      <th>0</th>\n",
       "      <td>1</td>\n",
       "      <td>퀸카 (Queencard)</td>\n",
       "      <td>(여자)아이들</td>\n",
       "    </tr>\n",
       "    <tr>\n",
       "      <th>1</th>\n",
       "      <td>2</td>\n",
       "      <td>I AM</td>\n",
       "      <td>IVE (아이브)</td>\n",
       "    </tr>\n",
       "    <tr>\n",
       "      <th>2</th>\n",
       "      <td>3</td>\n",
       "      <td>Spicy</td>\n",
       "      <td>aespa</td>\n",
       "    </tr>\n",
       "    <tr>\n",
       "      <th>3</th>\n",
       "      <td>4</td>\n",
       "      <td>이브, 프시케 그리고 푸른 수염의 아내</td>\n",
       "      <td>LE SSERAFIM (르세라핌)</td>\n",
       "    </tr>\n",
       "    <tr>\n",
       "      <th>4</th>\n",
       "      <td>5</td>\n",
       "      <td>UNFORGIVEN (feat. Nile Rodgers)</td>\n",
       "      <td>LE SSERAFIM (르세라핌)</td>\n",
       "    </tr>\n",
       "    <tr>\n",
       "      <th>...</th>\n",
       "      <td>...</td>\n",
       "      <td>...</td>\n",
       "      <td>...</td>\n",
       "    </tr>\n",
       "    <tr>\n",
       "      <th>95</th>\n",
       "      <td>96</td>\n",
       "      <td>Shut Down</td>\n",
       "      <td>BLACKPINK</td>\n",
       "    </tr>\n",
       "    <tr>\n",
       "      <th>96</th>\n",
       "      <td>97</td>\n",
       "      <td>정이라고 하자 (Feat. 10CM)</td>\n",
       "      <td>BIG Naughty (서동현)</td>\n",
       "    </tr>\n",
       "    <tr>\n",
       "      <th>97</th>\n",
       "      <td>98</td>\n",
       "      <td>당신을 만나</td>\n",
       "      <td>김호중</td>\n",
       "    </tr>\n",
       "    <tr>\n",
       "      <th>98</th>\n",
       "      <td>99</td>\n",
       "      <td>Say I Love You</td>\n",
       "      <td>우디 (Woody)</td>\n",
       "    </tr>\n",
       "    <tr>\n",
       "      <th>99</th>\n",
       "      <td>100</td>\n",
       "      <td>Pink Venom</td>\n",
       "      <td>BLACKPINK</td>\n",
       "    </tr>\n",
       "  </tbody>\n",
       "</table>\n",
       "<p>100 rows × 3 columns</p>\n",
       "</div>"
      ],
      "text/plain": [
       "      0                                1                   2\n",
       "0     1                   퀸카 (Queencard)             (여자)아이들\n",
       "1     2                             I AM           IVE (아이브)\n",
       "2     3                            Spicy               aespa\n",
       "3     4            이브, 프시케 그리고 푸른 수염의 아내  LE SSERAFIM (르세라핌)\n",
       "4     5  UNFORGIVEN (feat. Nile Rodgers)  LE SSERAFIM (르세라핌)\n",
       "..  ...                              ...                 ...\n",
       "95   96                        Shut Down           BLACKPINK\n",
       "96   97             정이라고 하자 (Feat. 10CM)   BIG Naughty (서동현)\n",
       "97   98                           당신을 만나                 김호중\n",
       "98   99                   Say I Love You          우디 (Woody)\n",
       "99  100                       Pink Venom           BLACKPINK\n",
       "\n",
       "[100 rows x 3 columns]"
      ]
     },
     "execution_count": 43,
     "metadata": {},
     "output_type": "execute_result"
    }
   ],
   "source": [
    "df = pd.DataFrame(result)\n",
    "df"
   ]
  },
  {
   "cell_type": "code",
   "execution_count": null,
   "metadata": {},
   "outputs": [
    {
     "data": {
      "text/html": [
       "<div>\n",
       "<style scoped>\n",
       "    .dataframe tbody tr th:only-of-type {\n",
       "        vertical-align: middle;\n",
       "    }\n",
       "\n",
       "    .dataframe tbody tr th {\n",
       "        vertical-align: top;\n",
       "    }\n",
       "\n",
       "    .dataframe thead th {\n",
       "        text-align: right;\n",
       "    }\n",
       "</style>\n",
       "<table border=\"1\" class=\"dataframe\">\n",
       "  <thead>\n",
       "    <tr style=\"text-align: right;\">\n",
       "      <th></th>\n",
       "      <th>순위</th>\n",
       "      <th>곡명</th>\n",
       "      <th>가수명</th>\n",
       "    </tr>\n",
       "  </thead>\n",
       "  <tbody>\n",
       "    <tr>\n",
       "      <th>0</th>\n",
       "      <td>1</td>\n",
       "      <td>퀸카 (Queencard)</td>\n",
       "      <td>(여자)아이들</td>\n",
       "    </tr>\n",
       "    <tr>\n",
       "      <th>1</th>\n",
       "      <td>2</td>\n",
       "      <td>I AM</td>\n",
       "      <td>IVE (아이브)</td>\n",
       "    </tr>\n",
       "    <tr>\n",
       "      <th>2</th>\n",
       "      <td>3</td>\n",
       "      <td>Spicy</td>\n",
       "      <td>aespa</td>\n",
       "    </tr>\n",
       "    <tr>\n",
       "      <th>3</th>\n",
       "      <td>4</td>\n",
       "      <td>이브, 프시케 그리고 푸른 수염의 아내</td>\n",
       "      <td>LE SSERAFIM (르세라핌)</td>\n",
       "    </tr>\n",
       "    <tr>\n",
       "      <th>4</th>\n",
       "      <td>5</td>\n",
       "      <td>UNFORGIVEN (feat. Nile Rodgers)</td>\n",
       "      <td>LE SSERAFIM (르세라핌)</td>\n",
       "    </tr>\n",
       "    <tr>\n",
       "      <th>...</th>\n",
       "      <td>...</td>\n",
       "      <td>...</td>\n",
       "      <td>...</td>\n",
       "    </tr>\n",
       "    <tr>\n",
       "      <th>95</th>\n",
       "      <td>96</td>\n",
       "      <td>Shut Down</td>\n",
       "      <td>BLACKPINK</td>\n",
       "    </tr>\n",
       "    <tr>\n",
       "      <th>96</th>\n",
       "      <td>97</td>\n",
       "      <td>정이라고 하자 (Feat. 10CM)</td>\n",
       "      <td>BIG Naughty (서동현)</td>\n",
       "    </tr>\n",
       "    <tr>\n",
       "      <th>97</th>\n",
       "      <td>98</td>\n",
       "      <td>당신을 만나</td>\n",
       "      <td>김호중</td>\n",
       "    </tr>\n",
       "    <tr>\n",
       "      <th>98</th>\n",
       "      <td>99</td>\n",
       "      <td>Say I Love You</td>\n",
       "      <td>우디 (Woody)</td>\n",
       "    </tr>\n",
       "    <tr>\n",
       "      <th>99</th>\n",
       "      <td>100</td>\n",
       "      <td>Pink Venom</td>\n",
       "      <td>BLACKPINK</td>\n",
       "    </tr>\n",
       "  </tbody>\n",
       "</table>\n",
       "<p>100 rows × 3 columns</p>\n",
       "</div>"
      ],
      "text/plain": [
       "     순위                               곡명                 가수명\n",
       "0     1                   퀸카 (Queencard)             (여자)아이들\n",
       "1     2                             I AM           IVE (아이브)\n",
       "2     3                            Spicy               aespa\n",
       "3     4            이브, 프시케 그리고 푸른 수염의 아내  LE SSERAFIM (르세라핌)\n",
       "4     5  UNFORGIVEN (feat. Nile Rodgers)  LE SSERAFIM (르세라핌)\n",
       "..  ...                              ...                 ...\n",
       "95   96                        Shut Down           BLACKPINK\n",
       "96   97             정이라고 하자 (Feat. 10CM)   BIG Naughty (서동현)\n",
       "97   98                           당신을 만나                 김호중\n",
       "98   99                   Say I Love You          우디 (Woody)\n",
       "99  100                       Pink Venom           BLACKPINK\n",
       "\n",
       "[100 rows x 3 columns]"
      ]
     },
     "execution_count": 45,
     "metadata": {},
     "output_type": "execute_result"
    }
   ],
   "source": [
    "df.columns = ['순위', '곡명', '가수명']\n",
    "df"
   ]
  },
  {
   "cell_type": "code",
   "execution_count": null,
   "metadata": {},
   "outputs": [],
   "source": [
    "# 데이터프레임을 csv에 저장\n",
    "df.to_csv('./melon_ranking_100.csv', encoding='utf-8', index=False)"
   ]
  },
  {
   "attachments": {},
   "cell_type": "markdown",
   "metadata": {},
   "source": [
    "##### 셀레니움 만으로 크롤링"
   ]
  },
  {
   "cell_type": "code",
   "execution_count": null,
   "metadata": {},
   "outputs": [
    {
     "name": "stdout",
     "output_type": "stream",
     "text": [
      "퀸카 (Queencard)\n"
     ]
    }
   ],
   "source": [
    "from selenium.webdriver.common.by import By\n",
    "\n",
    "s_songs = driver.find_elements(By.XPATH, '//table/tbody/tr')\n",
    "\n",
    "for song in s_songs:\n",
    "    rank = song.find_element(By.CLASS_NAME, 'rank').text\n",
    "    title = song.find_element(By.XPATH, '//span/a').text\n",
    "    print(song.find_element(By.XPATH, '//span/a').text)\n",
    "    break"
   ]
  },
  {
   "cell_type": "code",
   "execution_count": null,
   "metadata": {},
   "outputs": [],
   "source": [
    "from selenium.webdriver.common.by import By\n",
    "\n",
    "s_songs = driver.find_elements(By.XPATH, '//table/tbodt/tr')\n",
    "\n",
    "for song in s_songs:\n",
    "    #print(song.text.split('\\n'))\n",
    "    tmp = song.text.split('\\n')\n",
    "    rank = tmp[0]\n",
    "    title = tmp[-5]\n",
    "    singer  = tmp[-4]\n",
    "    print(rank, title, singer)"
   ]
  },
  {
   "attachments": {},
   "cell_type": "markdown",
   "metadata": {},
   "source": [
    "##### 벅스 인기차트 100 크롤링"
   ]
  },
  {
   "cell_type": "code",
   "execution_count": null,
   "metadata": {},
   "outputs": [],
   "source": [
    "driver = webdriver.Chrome()\n",
    "driver.get('https://music.bugs.co.kr/chart')"
   ]
  },
  {
   "cell_type": "code",
   "execution_count": null,
   "metadata": {},
   "outputs": [],
   "source": [
    "## 벅스차트 html 가져오기\n",
    "html = driver.page_source\n",
    "soup = BeautifulSoup(html, 'html.parser')"
   ]
  },
  {
   "cell_type": "code",
   "execution_count": null,
   "metadata": {},
   "outputs": [
    {
     "name": "stdout",
     "output_type": "stream",
     "text": [
      "100\n"
     ]
    }
   ],
   "source": [
    "# 벅스 페이지 내에 table이 두개 존재하므로 table의 클래스명까지 검색해야지 차트 100개만 나옴\n",
    "songs =  soup.select('table.byChart > tbody > tr')\n",
    "print(len(songs))"
   ]
  },
  {
   "cell_type": "code",
   "execution_count": null,
   "metadata": {},
   "outputs": [
    {
     "name": "stdout",
     "output_type": "stream",
     "text": [
      "1 퀸카 (Queencard) (여자)아이들\n",
      "2 I AM IVE (아이브)\n",
      "3 HARD SHINee (샤이니)\n",
      "4 Spicy aespa\n",
      "5 이브, 프시케 그리고 푸른 수염의 아내 LE SSERAFIM (르세라핌)\n",
      "6 Kitsch IVE (아이브)\n",
      "7 UNFORGIVEN (feat. Nile Rodgers) LE SSERAFIM (르세라핌)\n",
      "8 Hype Boy NewJeans\n",
      "9 Ditto NewJeans\n",
      "10 Steal The Show (From “엘리멘탈”) Lauv(라우브)\n",
      "11 헤어지자 말해요 박재정\n",
      "12 Cupid FIFTY FIFTY\n",
      "13 손오공 세븐틴(SEVENTEEN)\n",
      "14 OMG NewJeans\n",
      "15 Attention NewJeans\n",
      "16 꽃 지수(JISOO)\n",
      "17 TOMBOY (여자)아이들\n",
      "18 Dangerously Charlie Puth(찰리 푸스)\n",
      "19 KNOCK 이채연\n",
      "20 JUICE SHINee (샤이니)\n",
      "21 After LIKE IVE (아이브)\n",
      "22 사건의 지평선 윤하(Younha/ユンナ)\n",
      "23 모든 날, 모든 순간 (Every day, Every Moment) 폴킴(Paul Kim)\n",
      "24 Off My Face Justin Bieber(저스틴 비버)\n",
      "25 Thirsty aespa\n",
      "26 건물 사이에 피어난 장미 (Rose Blossom) H1-KEY (하이키)\n",
      "27 When I Get Old Christopher(크리스토퍼)\n",
      "28 I Don’t Think That I Like Her Charlie Puth(찰리 푸스)\n",
      "29 STAY The Kid LAROI\n",
      "30 너의 모든 순간 성시경\n",
      "31 LOVE DIVE IVE (아이브)\n",
      "32 잠깐 시간 될까 이무진\n",
      "33 ANTIFRAGILE LE SSERAFIM (르세라핌)\n",
      "34 Shut Down BLACKPINK\n",
      "35 Cupid (Twin Ver.) FIFTY FIFTY\n",
      "36 한 페이지가 될 수 있게 DAY6 (데이식스)\n",
      "37 Love Me Like This NMIXX\n",
      "38 그라데이션 10CM\n",
      "39 빛이 나는 너에게 던 (DAWN)\n",
      "40 10X SHINee (샤이니)\n",
      "41 FEARLESS LE SSERAFIM (르세라핌)\n",
      "42 오르트구름 윤하(Younha/ユンナ)\n",
      "43 Cookie NewJeans\n",
      "44 파이팅 해야지 (Feat. 이영지) 부석순(SEVENTEEN)\n",
      "45 주저하는 연인들을 위해 잔나비\n",
      "46 Allergy (여자)아이들\n",
      "47 Teddy Bear STAYC(스테이씨)\n",
      "48 That's Hilarious Charlie Puth(찰리 푸스)\n",
      "49 Candy NCT DREAM\n",
      "50 Broken Melodies NCT DREAM\n",
      "51 심(心) DK(디셈버)\n",
      "52 Pink Venom BLACKPINK\n",
      "53 Satellite SHINee (샤이니)\n",
      "54 CHRISTIAN 지올팍(Zior Park)\n",
      "55 That’s Not How This Works (feat. Dan + Shay) Charlie Puth(찰리 푸스)\n",
      "56 ELEVEN IVE (아이브)\n",
      "57 INVU 태연 (TAEYEON)\n",
      "58 The Feeling SHINee (샤이니)\n",
      "59 나의 X에게 경서\n",
      "60 나에게 그대만이 탑현\n",
      "61 한강에서 (Feat. BIG Naughty) 폴킴(Paul Kim)\n",
      "62 사랑인가 봐 멜로망스(MeloMance)\n",
      "63 특 Stray Kids (스트레이 키즈)\n",
      "64 Identity SHINee (샤이니)\n",
      "65 Salty & Sweet aespa\n",
      "66 사실말야내가말야그게그러니까말이야 케이시\n",
      "67 다정히 내 이름을 부르면 경서예지\n",
      "68 Like It SHINee (샤이니)\n",
      "69 희재 이홍기 (FT아일랜드)\n",
      "70 물론 허각\n",
      "71 Monologue 테이(Tei)\n",
      "72 Heaven(2023) 임재현\n",
      "73 그때 그 순간 그대로 (그그그) WSG워너비 (가야G)\n",
      "74 불면증 (Insomnia) SHINee (샤이니)\n",
      "75 Nxde (여자)아이들\n",
      "76 나의 바람 (Wind And Wish) 비투비\n",
      "77 정이라고 하자 (Feat. 10CM) BIG Naughty (서동현)\n",
      "78 Dynamite 방탄소년단\n",
      "79 Poppy (Korean Ver.) STAYC(스테이씨)\n",
      "80 부동의 첫사랑 10CM\n",
      "81 취중고백 김민석 (멜로망스)\n",
      "82 WHEN I MOVE 카라(Kara)\n",
      "83 VIBE (feat. Jimin of BTS) 태양\n",
      "84 Gravity SHINee (샤이니)\n",
      "85 Sweet Misery SHINee (샤이니)\n",
      "86 찬란한 하루 멜로망스(MeloMance)\n",
      "87 해요 (2022) #안녕\n",
      "88 도깨비불 (Illusion) aespa\n",
      "89 드라마 아이유(IU)\n",
      "90 사랑의 바보 제이세라(J-Cera)\n",
      "91 사랑은 늘 도망가 임영웅\n",
      "92 Feel My Rhythm Red Velvet (레드벨벳)\n",
      "93 strawberry moon 아이유(IU)\n",
      "94 사랑하지 않아서 그랬니 지아(Zia)\n",
      "95 Say I Love You 우디(Woody)\n",
      "96 사랑..그게 뭔데 지아(Zia)\n",
      "97 FRIEND THE END 볼빨간사춘기\n",
      "98 NOT SORRY (Feat. pH-1) (Prod. by Slom) 이영지\n",
      "99 LOVE me BE'O (비오)\n",
      "100 딱 10CM만 10CM\n"
     ]
    }
   ],
   "source": [
    "for song in songs:\n",
    "    rank = song.select('td > div.ranking > strong')[0].text\n",
    "    title = song.select('p.title > a')[0].text\n",
    "    singer = song.select('p.artist > a')[0].text\n",
    "    print(rank, title, singer)"
   ]
  }
 ],
 "metadata": {
  "kernelspec": {
   "display_name": "Python 3",
   "language": "python",
   "name": "python3"
  },
  "language_info": {
   "codemirror_mode": {
    "name": "ipython",
    "version": 3
   },
   "file_extension": ".py",
   "mimetype": "text/x-python",
   "name": "python",
   "nbconvert_exporter": "python",
   "pygments_lexer": "ipython3",
   "version": "3.11.4"
  },
  "orig_nbformat": 4,
  "vscode": {
   "interpreter": {
    "hash": "5238573367df39f7286bb46f9ff5f08f63a01a80960060ce41e3c79b190280fa"
   }
  }
 },
 "nbformat": 4,
 "nbformat_minor": 2
}
