{
 "cells": [
  {
   "attachments": {},
   "cell_type": "markdown",
   "metadata": {},
   "source": [
    "#### 다나와 크롤링\n",
    "\n",
    "##### 다나와 무선청소기 크롤링\n",
    "\n",
    "- 무선청소기 URL : https://search.danawa.com/dsearch.php?query=%EB%AC%B4%EC%84%A0%EC%B2%AD%EC%86%8C%EA%B8%B0&page=1&limit=120\n",
    "\n",
    "##### 셀레니움 등  크롤링 모듈 임포트"
   ]
  },
  {
   "cell_type": "code",
   "execution_count": 3,
   "metadata": {},
   "outputs": [],
   "source": [
    "from selenium import webdriver\n",
    "from selenium.webdriver.common.by import By\n",
    "from bs4 import BeautifulSoup\n",
    "import pandas as pd\n",
    "from tqdm.autonotebook import tqdm"
   ]
  },
  {
   "cell_type": "code",
   "execution_count": 2,
   "metadata": {},
   "outputs": [
    {
     "name": "stdout",
     "output_type": "stream",
     "text": [
      "Collecting ipywidgets\n",
      "  Downloading ipywidgets-8.0.7-py3-none-any.whl (138 kB)\n",
      "                                              0.0/138.3 kB ? eta -:--:--\n",
      "     -------------------------------------- 138.3/138.3 kB 4.1 MB/s eta 0:00:00\n",
      "Requirement already satisfied: ipykernel>=4.5.1 in c:\\users\\administrator\\appdata\\roaming\\python\\python311\\site-packages (from ipywidgets) (6.23.2)\n",
      "Requirement already satisfied: ipython>=6.1.0 in c:\\users\\administrator\\appdata\\roaming\\python\\python311\\site-packages (from ipywidgets) (8.14.0)\n",
      "Requirement already satisfied: traitlets>=4.3.1 in c:\\users\\administrator\\appdata\\roaming\\python\\python311\\site-packages (from ipywidgets) (5.9.0)\n",
      "Collecting widgetsnbextension~=4.0.7 (from ipywidgets)\n",
      "  Downloading widgetsnbextension-4.0.8-py3-none-any.whl (2.3 MB)\n",
      "                                              0.0/2.3 MB ? eta -:--:--\n",
      "     -----------                              0.7/2.3 MB 13.9 MB/s eta 0:00:01\n",
      "     -------------------------                1.5/2.3 MB 15.7 MB/s eta 0:00:01\n",
      "     ---------------------------------------  2.3/2.3 MB 18.3 MB/s eta 0:00:01\n",
      "     ---------------------------------------- 2.3/2.3 MB 16.2 MB/s eta 0:00:00\n",
      "Collecting jupyterlab-widgets~=3.0.7 (from ipywidgets)\n",
      "  Downloading jupyterlab_widgets-3.0.8-py3-none-any.whl (214 kB)\n",
      "                                              0.0/215.0 kB ? eta -:--:--\n",
      "     ------------------------------------- 215.0/215.0 kB 13.6 MB/s eta 0:00:00\n",
      "Requirement already satisfied: comm>=0.1.1 in c:\\users\\administrator\\appdata\\roaming\\python\\python311\\site-packages (from ipykernel>=4.5.1->ipywidgets) (0.1.3)\n",
      "Requirement already satisfied: debugpy>=1.6.5 in c:\\users\\administrator\\appdata\\roaming\\python\\python311\\site-packages (from ipykernel>=4.5.1->ipywidgets) (1.6.7)\n",
      "Requirement already satisfied: jupyter-client>=6.1.12 in c:\\users\\administrator\\appdata\\roaming\\python\\python311\\site-packages (from ipykernel>=4.5.1->ipywidgets) (8.2.0)\n",
      "Requirement already satisfied: jupyter-core!=5.0.*,>=4.12 in c:\\users\\administrator\\appdata\\roaming\\python\\python311\\site-packages (from ipykernel>=4.5.1->ipywidgets) (5.3.1)\n",
      "Requirement already satisfied: matplotlib-inline>=0.1 in c:\\users\\administrator\\appdata\\roaming\\python\\python311\\site-packages (from ipykernel>=4.5.1->ipywidgets) (0.1.6)\n",
      "Requirement already satisfied: nest-asyncio in c:\\users\\administrator\\appdata\\roaming\\python\\python311\\site-packages (from ipykernel>=4.5.1->ipywidgets) (1.5.6)\n",
      "Requirement already satisfied: packaging in c:\\users\\administrator\\appdata\\roaming\\python\\python311\\site-packages (from ipykernel>=4.5.1->ipywidgets) (23.1)\n",
      "Requirement already satisfied: psutil in c:\\users\\administrator\\appdata\\roaming\\python\\python311\\site-packages (from ipykernel>=4.5.1->ipywidgets) (5.9.5)\n",
      "Requirement already satisfied: pyzmq>=20 in c:\\users\\administrator\\appdata\\roaming\\python\\python311\\site-packages (from ipykernel>=4.5.1->ipywidgets) (25.1.0)\n",
      "Requirement already satisfied: tornado>=6.1 in c:\\users\\administrator\\appdata\\roaming\\python\\python311\\site-packages (from ipykernel>=4.5.1->ipywidgets) (6.3.2)\n",
      "Requirement already satisfied: backcall in c:\\users\\administrator\\appdata\\roaming\\python\\python311\\site-packages (from ipython>=6.1.0->ipywidgets) (0.2.0)\n",
      "Requirement already satisfied: decorator in c:\\users\\administrator\\appdata\\roaming\\python\\python311\\site-packages (from ipython>=6.1.0->ipywidgets) (5.1.1)\n",
      "Requirement already satisfied: jedi>=0.16 in c:\\users\\administrator\\appdata\\roaming\\python\\python311\\site-packages (from ipython>=6.1.0->ipywidgets) (0.18.2)\n",
      "Requirement already satisfied: pickleshare in c:\\users\\administrator\\appdata\\roaming\\python\\python311\\site-packages (from ipython>=6.1.0->ipywidgets) (0.7.5)\n",
      "Requirement already satisfied: prompt-toolkit!=3.0.37,<3.1.0,>=3.0.30 in c:\\users\\administrator\\appdata\\roaming\\python\\python311\\site-packages (from ipython>=6.1.0->ipywidgets) (3.0.38)\n",
      "Requirement already satisfied: pygments>=2.4.0 in c:\\users\\administrator\\appdata\\roaming\\python\\python311\\site-packages (from ipython>=6.1.0->ipywidgets) (2.15.1)\n",
      "Requirement already satisfied: stack-data in c:\\users\\administrator\\appdata\\roaming\\python\\python311\\site-packages (from ipython>=6.1.0->ipywidgets) (0.6.2)\n",
      "Requirement already satisfied: colorama in c:\\users\\administrator\\appdata\\roaming\\python\\python311\\site-packages (from ipython>=6.1.0->ipywidgets) (0.4.6)\n",
      "Requirement already satisfied: parso<0.9.0,>=0.8.0 in c:\\users\\administrator\\appdata\\roaming\\python\\python311\\site-packages (from jedi>=0.16->ipython>=6.1.0->ipywidgets) (0.8.3)\n",
      "Requirement already satisfied: python-dateutil>=2.8.2 in c:\\program files\\python311\\lib\\site-packages (from jupyter-client>=6.1.12->ipykernel>=4.5.1->ipywidgets) (2.8.2)\n",
      "Requirement already satisfied: platformdirs>=2.5 in c:\\users\\administrator\\appdata\\roaming\\python\\python311\\site-packages (from jupyter-core!=5.0.*,>=4.12->ipykernel>=4.5.1->ipywidgets) (3.8.0)\n",
      "Requirement already satisfied: pywin32>=300 in c:\\users\\administrator\\appdata\\roaming\\python\\python311\\site-packages (from jupyter-core!=5.0.*,>=4.12->ipykernel>=4.5.1->ipywidgets) (306)\n",
      "Requirement already satisfied: wcwidth in c:\\users\\administrator\\appdata\\roaming\\python\\python311\\site-packages (from prompt-toolkit!=3.0.37,<3.1.0,>=3.0.30->ipython>=6.1.0->ipywidgets) (0.2.6)\n",
      "Requirement already satisfied: executing>=1.2.0 in c:\\users\\administrator\\appdata\\roaming\\python\\python311\\site-packages (from stack-data->ipython>=6.1.0->ipywidgets) (1.2.0)\n",
      "Requirement already satisfied: asttokens>=2.1.0 in c:\\users\\administrator\\appdata\\roaming\\python\\python311\\site-packages (from stack-data->ipython>=6.1.0->ipywidgets) (2.2.1)\n",
      "Requirement already satisfied: pure-eval in c:\\users\\administrator\\appdata\\roaming\\python\\python311\\site-packages (from stack-data->ipython>=6.1.0->ipywidgets) (0.2.2)\n",
      "Requirement already satisfied: six in c:\\program files\\python311\\lib\\site-packages (from asttokens>=2.1.0->stack-data->ipython>=6.1.0->ipywidgets) (1.16.0)\n",
      "Installing collected packages: widgetsnbextension, jupyterlab-widgets, ipywidgets\n",
      "Successfully installed ipywidgets-8.0.7 jupyterlab-widgets-3.0.8 widgetsnbextension-4.0.8\n"
     ]
    }
   ],
   "source": [
    "# tqdm progressbar 워닝때문에 설치\n",
    "!pip install ipywidgets"
   ]
  },
  {
   "cell_type": "code",
   "execution_count": 5,
   "metadata": {},
   "outputs": [],
   "source": [
    "# 크롬드라이버로 크롬 브라우저 실행\n",
    "driver = webdriver.Chrome()\n",
    "url = 'https://search.danawa.com/dsearch.php?query=%EB%AC%B4%EC%84%A0%EC%B2%AD%EC%86%8C%EA%B8%B0&page=1&limit=120'\n",
    "driver.get(url)"
   ]
  },
  {
   "cell_type": "code",
   "execution_count": 9,
   "metadata": {},
   "outputs": [],
   "source": [
    "# bs 사용 html 가져오기\n",
    "html = driver.page_source\n",
    "soup = BeautifulSoup(html, 'html.parser')"
   ]
  },
  {
   "cell_type": "code",
   "execution_count": 12,
   "metadata": {},
   "outputs": [
    {
     "data": {
      "text/plain": [
       "123"
      ]
     },
     "execution_count": 12,
     "metadata": {},
     "output_type": "execute_result"
    }
   ],
   "source": [
    "# 제품리스트만\n",
    "prod_items = soup.select('li.prod_item')\n",
    "len(prod_items)"
   ]
  },
  {
   "cell_type": "code",
   "execution_count": 28,
   "metadata": {},
   "outputs": [
    {
     "data": {
      "text/plain": [
       "'삼성전자 비스포크 제트 VS20B956D5'"
      ]
     },
     "execution_count": 28,
     "metadata": {},
     "output_type": "execute_result"
    }
   ],
   "source": [
    "# 첫번째 제품으로 값가져오기 체크\n",
    "# 1. 제품명 가져오기\n",
    "# strip() - 공백, \\n 다 없애줌 / 중간에 애드스마트 광고 부분 예외처리 제거대상\n",
    "title = prod_items[0].select('p.prod_name')[0].text.strip()\n",
    "title"
   ]
  },
  {
   "cell_type": "code",
   "execution_count": 30,
   "metadata": {},
   "outputs": [
    {
     "data": {
      "text/plain": [
       "'핸디스틱청소기 / 무선 / 흡입+물걸레겸용 / 흡입력: 220W / [구성] 거치대: 일체형청정스테이션 / 바닥 / 물걸레 / 솔형 / 틈새 / 연장툴 / [배터리] 분리형 (1개) / 충전시간: 3시간30분 / 사용시간: 1시간 / [성능] 디지털인버터모터 / 5단계여과 / [기능] IoT기능 / 디스플레이표시창 / 자동물공급 / LED라이트 / 배터리잔량표시 / 자동먼지비움 / [부가] 먼지통용량: 0.5L / 색상: 산토리니베이지 / 2022년형 / 물걸레 / 크기(가로x세로x깊이): 250x930x202mm'"
      ]
     },
     "execution_count": 30,
     "metadata": {},
     "output_type": "execute_result"
    }
   ],
   "source": [
    "# 2. 제품 스펙 가져오기\n",
    "spec_list = prod_items[0].select('div.spec_list')[0].text.strip().replace('\\t','') \n",
    "spec_list"
   ]
  },
  {
   "cell_type": "code",
   "execution_count": 36,
   "metadata": {},
   "outputs": [
    {
     "data": {
      "text/plain": [
       "'555480'"
      ]
     },
     "execution_count": 36,
     "metadata": {},
     "output_type": "execute_result"
    }
   ],
   "source": [
    "# 3. 가격 정보 가져오기\n",
    "price = prod_items[0].select('li.rank_one > p.price_sect > a > strong')[0].text.strip().replace(',','')\n",
    "price"
   ]
  },
  {
   "cell_type": "code",
   "execution_count": 47,
   "metadata": {},
   "outputs": [
    {
     "data": {
      "text/plain": [
       "True"
      ]
     },
     "execution_count": 47,
     "metadata": {},
     "output_type": "execute_result"
    }
   ],
   "source": [
    "# 애드스마트 광고영역을 판별\n",
    "'ad_section' in prod_items[5].select('div')[0]['class']"
   ]
  },
  {
   "attachments": {},
   "cell_type": "markdown",
   "metadata": {},
   "source": [
    "##### 반복문으로 검색결과 상품정보 리스트 추출"
   ]
  },
  {
   "cell_type": "code",
   "execution_count": 61,
   "metadata": {},
   "outputs": [],
   "source": [
    "prod_data = []\n",
    "# count = 0\n",
    "\n",
    "for prod_item in prod_items:\n",
    "    # if count >= 7 : break\n",
    "\n",
    "    if 'ad_section' in prod_item.select('div')[0]['class']:\n",
    "        continue # 애드스마트 영역이면 패스\n",
    "    try:\n",
    "        title = spec_list = prod_item.select('p.prod_name > a')[0].text.strip() # 1. 제품명\n",
    "        spec_list = prod_item.select('div.spec_list')[0].text.strip().replace('\\t','') # 2. 제품스펙\n",
    "        price = prod_item.select('li.rank_one > p.price_sect > a > strong')[0].text.strip().replace(',','') # 제품가격\n",
    "        prod_data.append([title, spec_list, price])\n",
    "    except:\n",
    "        pass\n",
    "\n",
    "    # count += 1\n"
   ]
  },
  {
   "cell_type": "code",
   "execution_count": 62,
   "metadata": {},
   "outputs": [
    {
     "data": {
      "text/plain": [
       "120"
      ]
     },
     "execution_count": 62,
     "metadata": {},
     "output_type": "execute_result"
    }
   ],
   "source": [
    "len(prod_data)"
   ]
  },
  {
   "cell_type": "code",
   "execution_count": 64,
   "metadata": {},
   "outputs": [
    {
     "data": {
      "text/html": [
       "<div>\n",
       "<style scoped>\n",
       "    .dataframe tbody tr th:only-of-type {\n",
       "        vertical-align: middle;\n",
       "    }\n",
       "\n",
       "    .dataframe tbody tr th {\n",
       "        vertical-align: top;\n",
       "    }\n",
       "\n",
       "    .dataframe thead th {\n",
       "        text-align: right;\n",
       "    }\n",
       "</style>\n",
       "<table border=\"1\" class=\"dataframe\">\n",
       "  <thead>\n",
       "    <tr style=\"text-align: right;\">\n",
       "      <th></th>\n",
       "      <th>0</th>\n",
       "      <th>1</th>\n",
       "      <th>2</th>\n",
       "    </tr>\n",
       "  </thead>\n",
       "  <tbody>\n",
       "    <tr>\n",
       "      <th>0</th>\n",
       "      <td>삼성전자 비스포크 제트 VS20B956D5</td>\n",
       "      <td>핸디스틱청소기 / 무선 / 흡입+물걸레겸용 / 흡입력: 220W / [구성] 거치대...</td>\n",
       "      <td>555480</td>\n",
       "    </tr>\n",
       "    <tr>\n",
       "      <th>1</th>\n",
       "      <td>LG전자 오브제컬렉션 코드제로 A9S AX9984</td>\n",
       "      <td>핸디스틱청소기 / 무선 / 흡입+물걸레겸용 / 흡입력: 250W / [구성] 거치대...</td>\n",
       "      <td>1136630</td>\n",
       "    </tr>\n",
       "    <tr>\n",
       "      <th>2</th>\n",
       "      <td>LG전자 오브제컬렉션 코드제로 AS9202WD</td>\n",
       "      <td>핸디스틱청소기 / 무선 / 흡입전용 / 흡입력: 210W / [구성] 거치대: 거치...</td>\n",
       "      <td>530620</td>\n",
       "    </tr>\n",
       "    <tr>\n",
       "      <th>3</th>\n",
       "      <td>샤오미 드리미 V11</td>\n",
       "      <td>핸디스틱청소기 / 무선 / 흡입전용 / 흡입력: 150AW / 흡입력: 25000P...</td>\n",
       "      <td>179000</td>\n",
       "    </tr>\n",
       "    <tr>\n",
       "      <th>4</th>\n",
       "      <td>삼성전자 비스포크 제트 VS20A956A3</td>\n",
       "      <td>핸디스틱청소기 / 무선 / 흡입전용 / 흡입력: 210W / [구성] 거치대: 일체...</td>\n",
       "      <td>482660</td>\n",
       "    </tr>\n",
       "  </tbody>\n",
       "</table>\n",
       "</div>"
      ],
      "text/plain": [
       "                             0  \\\n",
       "0      삼성전자 비스포크 제트 VS20B956D5   \n",
       "1  LG전자 오브제컬렉션 코드제로 A9S AX9984   \n",
       "2    LG전자 오브제컬렉션 코드제로 AS9202WD   \n",
       "3                  샤오미 드리미 V11   \n",
       "4      삼성전자 비스포크 제트 VS20A956A3   \n",
       "\n",
       "                                                   1        2  \n",
       "0  핸디스틱청소기 / 무선 / 흡입+물걸레겸용 / 흡입력: 220W / [구성] 거치대...   555480  \n",
       "1  핸디스틱청소기 / 무선 / 흡입+물걸레겸용 / 흡입력: 250W / [구성] 거치대...  1136630  \n",
       "2  핸디스틱청소기 / 무선 / 흡입전용 / 흡입력: 210W / [구성] 거치대: 거치...   530620  \n",
       "3  핸디스틱청소기 / 무선 / 흡입전용 / 흡입력: 150AW / 흡입력: 25000P...   179000  \n",
       "4  핸디스틱청소기 / 무선 / 흡입전용 / 흡입력: 210W / [구성] 거치대: 일체...   482660  "
      ]
     },
     "execution_count": 64,
     "metadata": {},
     "output_type": "execute_result"
    }
   ],
   "source": [
    "pd.DataFrame(prod_data).head()"
   ]
  },
  {
   "cell_type": "code",
   "execution_count": 71,
   "metadata": {},
   "outputs": [],
   "source": [
    "# 함수만들기\n",
    "def get_prod_items(prod_items):\n",
    "    prod_data = []\n",
    "\n",
    "    for prod_item in prod_items:\n",
    "\n",
    "        if 'ad_section' in prod_item.select('div')[0]['class']:\n",
    "            continue # 애드스마트 영역이면 패스\n",
    "        try:\n",
    "            title = spec_list = prod_item.select('p.prod_name > a')[0].text.strip() # 1. 제품명\n",
    "            spec_list = prod_item.select('div.spec_list')[0].text.strip().replace('\\t','') # 2. 제품스펙\n",
    "            price = prod_item.select('li.rank_one > p.price_sect > a > strong')[0].text.strip().replace(',','') # 제품가격\n",
    "            prod_data.append([title, spec_list, price])\n",
    "        except:\n",
    "            pass\n",
    "\n",
    "    return prod_data"
   ]
  },
  {
   "cell_type": "code",
   "execution_count": 73,
   "metadata": {},
   "outputs": [],
   "source": [
    "# 함수 테스트\n",
    "prod_items1 = soup.select('li.prod_item')\n",
    "prod_data1 = get_prod_items(prod_items1)"
   ]
  },
  {
   "cell_type": "code",
   "execution_count": 75,
   "metadata": {},
   "outputs": [
    {
     "data": {
      "text/html": [
       "<div>\n",
       "<style scoped>\n",
       "    .dataframe tbody tr th:only-of-type {\n",
       "        vertical-align: middle;\n",
       "    }\n",
       "\n",
       "    .dataframe tbody tr th {\n",
       "        vertical-align: top;\n",
       "    }\n",
       "\n",
       "    .dataframe thead th {\n",
       "        text-align: right;\n",
       "    }\n",
       "</style>\n",
       "<table border=\"1\" class=\"dataframe\">\n",
       "  <thead>\n",
       "    <tr style=\"text-align: right;\">\n",
       "      <th></th>\n",
       "      <th>0</th>\n",
       "      <th>1</th>\n",
       "      <th>2</th>\n",
       "    </tr>\n",
       "  </thead>\n",
       "  <tbody>\n",
       "    <tr>\n",
       "      <th>0</th>\n",
       "      <td>삼성전자 비스포크 제트 VS20B956D5</td>\n",
       "      <td>핸디스틱청소기 / 무선 / 흡입+물걸레겸용 / 흡입력: 220W / [구성] 거치대...</td>\n",
       "      <td>555480</td>\n",
       "    </tr>\n",
       "    <tr>\n",
       "      <th>1</th>\n",
       "      <td>LG전자 오브제컬렉션 코드제로 A9S AX9984</td>\n",
       "      <td>핸디스틱청소기 / 무선 / 흡입+물걸레겸용 / 흡입력: 250W / [구성] 거치대...</td>\n",
       "      <td>1136630</td>\n",
       "    </tr>\n",
       "    <tr>\n",
       "      <th>2</th>\n",
       "      <td>LG전자 오브제컬렉션 코드제로 AS9202WD</td>\n",
       "      <td>핸디스틱청소기 / 무선 / 흡입전용 / 흡입력: 210W / [구성] 거치대: 거치...</td>\n",
       "      <td>530620</td>\n",
       "    </tr>\n",
       "    <tr>\n",
       "      <th>3</th>\n",
       "      <td>샤오미 드리미 V11</td>\n",
       "      <td>핸디스틱청소기 / 무선 / 흡입전용 / 흡입력: 150AW / 흡입력: 25000P...</td>\n",
       "      <td>179000</td>\n",
       "    </tr>\n",
       "    <tr>\n",
       "      <th>4</th>\n",
       "      <td>삼성전자 비스포크 제트 VS20A956A3</td>\n",
       "      <td>핸디스틱청소기 / 무선 / 흡입전용 / 흡입력: 210W / [구성] 거치대: 일체...</td>\n",
       "      <td>482660</td>\n",
       "    </tr>\n",
       "    <tr>\n",
       "      <th>...</th>\n",
       "      <td>...</td>\n",
       "      <td>...</td>\n",
       "      <td>...</td>\n",
       "    </tr>\n",
       "    <tr>\n",
       "      <th>115</th>\n",
       "      <td>일렉트로룩스 ZB6218STM</td>\n",
       "      <td>핸디청소기 / 무선 / 흡입전용 / [구성] 거치대: 충전+거치 / [배터리] 내장...</td>\n",
       "      <td>147150</td>\n",
       "    </tr>\n",
       "    <tr>\n",
       "      <th>116</th>\n",
       "      <td>한빛시스템 HV-5099</td>\n",
       "      <td>핸디스틱청소기 / 무선 / 흡입전용 / [구성] 바닥 / 솔형 / 틈새 / [배터리...</td>\n",
       "      <td>75090</td>\n",
       "    </tr>\n",
       "    <tr>\n",
       "      <th>117</th>\n",
       "      <td>캐치웰 CX PRO</td>\n",
       "      <td>핸디스틱청소기 / 무선 / 흡입전용 / [구성] 바닥 / 침구 / 솔형 / 틈새 /...</td>\n",
       "      <td>329000</td>\n",
       "    </tr>\n",
       "    <tr>\n",
       "      <th>118</th>\n",
       "      <td>LG전자 코드제로 A9S AS9271</td>\n",
       "      <td>핸디스틱청소기 / 무선 / 흡입+물걸레겸용 / 흡입력: 210W / [구성] 거치대...</td>\n",
       "      <td>677310</td>\n",
       "    </tr>\n",
       "    <tr>\n",
       "      <th>119</th>\n",
       "      <td>리하스 S3</td>\n",
       "      <td>핸디스틱청소기 / 무선 / 흡입전용 / 흡입력: 30000Pa / [구성] 거치대:...</td>\n",
       "      <td>209000</td>\n",
       "    </tr>\n",
       "  </tbody>\n",
       "</table>\n",
       "<p>120 rows × 3 columns</p>\n",
       "</div>"
      ],
      "text/plain": [
       "                               0  \\\n",
       "0        삼성전자 비스포크 제트 VS20B956D5   \n",
       "1    LG전자 오브제컬렉션 코드제로 A9S AX9984   \n",
       "2      LG전자 오브제컬렉션 코드제로 AS9202WD   \n",
       "3                    샤오미 드리미 V11   \n",
       "4        삼성전자 비스포크 제트 VS20A956A3   \n",
       "..                           ...   \n",
       "115             일렉트로룩스 ZB6218STM   \n",
       "116                한빛시스템 HV-5099   \n",
       "117                   캐치웰 CX PRO   \n",
       "118         LG전자 코드제로 A9S AS9271   \n",
       "119                       리하스 S3   \n",
       "\n",
       "                                                     1        2  \n",
       "0    핸디스틱청소기 / 무선 / 흡입+물걸레겸용 / 흡입력: 220W / [구성] 거치대...   555480  \n",
       "1    핸디스틱청소기 / 무선 / 흡입+물걸레겸용 / 흡입력: 250W / [구성] 거치대...  1136630  \n",
       "2    핸디스틱청소기 / 무선 / 흡입전용 / 흡입력: 210W / [구성] 거치대: 거치...   530620  \n",
       "3    핸디스틱청소기 / 무선 / 흡입전용 / 흡입력: 150AW / 흡입력: 25000P...   179000  \n",
       "4    핸디스틱청소기 / 무선 / 흡입전용 / 흡입력: 210W / [구성] 거치대: 일체...   482660  \n",
       "..                                                 ...      ...  \n",
       "115  핸디청소기 / 무선 / 흡입전용 / [구성] 거치대: 충전+거치 / [배터리] 내장...   147150  \n",
       "116  핸디스틱청소기 / 무선 / 흡입전용 / [구성] 바닥 / 솔형 / 틈새 / [배터리...    75090  \n",
       "117  핸디스틱청소기 / 무선 / 흡입전용 / [구성] 바닥 / 침구 / 솔형 / 틈새 /...   329000  \n",
       "118  핸디스틱청소기 / 무선 / 흡입+물걸레겸용 / 흡입력: 210W / [구성] 거치대...   677310  \n",
       "119  핸디스틱청소기 / 무선 / 흡입전용 / 흡입력: 30000Pa / [구성] 거치대:...   209000  \n",
       "\n",
       "[120 rows x 3 columns]"
      ]
     },
     "execution_count": 75,
     "metadata": {},
     "output_type": "execute_result"
    }
   ],
   "source": [
    "pd.DataFrame(prod_data1)"
   ]
  },
  {
   "attachments": {},
   "cell_type": "markdown",
   "metadata": {},
   "source": [
    "##### 페이지 변경하면서 크롤링"
   ]
  },
  {
   "cell_type": "code",
   "execution_count": 82,
   "metadata": {},
   "outputs": [],
   "source": [
    "# 페이지 URL 생성함수\n",
    "def get_search_page_url(keyword, page):\n",
    "    return f'https://search.danawa.com/dsearch.php?query={keyword}&page={page}&limit=120&sort=saveDESC'"
   ]
  },
  {
   "cell_type": "code",
   "execution_count": 85,
   "metadata": {},
   "outputs": [],
   "source": [
    "# 함수 테스트\n",
    "keyword = '무선청소기'\n",
    "page = 150\n",
    "url = get_search_page_url(keyword, page)\n",
    "driver.get(url)"
   ]
  },
  {
   "attachments": {},
   "cell_type": "markdown",
   "metadata": {},
   "source": [
    "##### 여러페이지 상품 데이터 수집"
   ]
  },
  {
   "cell_type": "code",
   "execution_count": 98,
   "metadata": {},
   "outputs": [],
   "source": [
    "driver = webdriver.Chrome()\n",
    "# 암묵적으로 웹자원 로드를 위해서 3초 대기\n",
    "# driver.implicitly_wait(3)"
   ]
  },
  {
   "cell_type": "code",
   "execution_count": 99,
   "metadata": {},
   "outputs": [
    {
     "name": "stderr",
     "output_type": "stream",
     "text": [
      "100%|██████████| 20/20 [04:28<00:00, 13.45s/it]\n"
     ]
    }
   ],
   "source": [
    "from time import sleep\n",
    "\n",
    "total_page = 20\n",
    "prod_total_data = []\n",
    "\n",
    "for page in tqdm(range(1,total_page + 1)):\n",
    "    url = get_search_page_url(keyword='무선청소기', page=page)\n",
    "    driver.get(url)\n",
    "    sleep(7.0) # 5초로 대기했을때 못가져오는 데이터 발생\n",
    "\n",
    "    html = driver.page_source\n",
    "    soup = BeautifulSoup(html, 'html.parser')\n",
    "    \n",
    "    prod_items = soup.select('li.prod_item')\n",
    "    prod_item_list = get_prod_items(prod_items)\n",
    "\n",
    "    prod_total_data += prod_item_list"
   ]
  },
  {
   "cell_type": "code",
   "execution_count": 100,
   "metadata": {},
   "outputs": [
    {
     "data": {
      "text/html": [
       "<div>\n",
       "<style scoped>\n",
       "    .dataframe tbody tr th:only-of-type {\n",
       "        vertical-align: middle;\n",
       "    }\n",
       "\n",
       "    .dataframe tbody tr th {\n",
       "        vertical-align: top;\n",
       "    }\n",
       "\n",
       "    .dataframe thead th {\n",
       "        text-align: right;\n",
       "    }\n",
       "</style>\n",
       "<table border=\"1\" class=\"dataframe\">\n",
       "  <thead>\n",
       "    <tr style=\"text-align: right;\">\n",
       "      <th></th>\n",
       "      <th>0</th>\n",
       "      <th>1</th>\n",
       "      <th>2</th>\n",
       "    </tr>\n",
       "  </thead>\n",
       "  <tbody>\n",
       "    <tr>\n",
       "      <th>0</th>\n",
       "      <td>삼성전자 비스포크 제트 VS20B956D5</td>\n",
       "      <td>핸디스틱청소기 / 무선 / 흡입+물걸레겸용 / 흡입력: 220W / [구성] 거치대...</td>\n",
       "      <td>555480</td>\n",
       "    </tr>\n",
       "    <tr>\n",
       "      <th>1</th>\n",
       "      <td>LG전자 오브제컬렉션 코드제로 A9S AX9984</td>\n",
       "      <td>핸디스틱청소기 / 무선 / 흡입+물걸레겸용 / 흡입력: 250W / [구성] 거치대...</td>\n",
       "      <td>1136630</td>\n",
       "    </tr>\n",
       "    <tr>\n",
       "      <th>2</th>\n",
       "      <td>LG전자 오브제컬렉션 코드제로 AS9202WD</td>\n",
       "      <td>핸디스틱청소기 / 무선 / 흡입전용 / 흡입력: 210W / [구성] 거치대: 거치...</td>\n",
       "      <td>530620</td>\n",
       "    </tr>\n",
       "    <tr>\n",
       "      <th>3</th>\n",
       "      <td>샤오미 드리미 V11</td>\n",
       "      <td>핸디스틱청소기 / 무선 / 흡입전용 / 흡입력: 150AW / 흡입력: 25000P...</td>\n",
       "      <td>179000</td>\n",
       "    </tr>\n",
       "    <tr>\n",
       "      <th>4</th>\n",
       "      <td>삼성전자 비스포크 제트 VS20A956A3</td>\n",
       "      <td>핸디스틱청소기 / 무선 / 흡입전용 / 흡입력: 210W / [구성] 거치대: 일체...</td>\n",
       "      <td>482660</td>\n",
       "    </tr>\n",
       "    <tr>\n",
       "      <th>...</th>\n",
       "      <td>...</td>\n",
       "      <td>...</td>\n",
       "      <td>...</td>\n",
       "    </tr>\n",
       "    <tr>\n",
       "      <th>2220</th>\n",
       "      <td>라미 LED차량용 무선 청소기</td>\n",
       "      <td>차량용청소기 / 무선 / [흡입력] ~6,000Pa / [필터] 헤파필터 / 스테인...</td>\n",
       "      <td>69000</td>\n",
       "    </tr>\n",
       "    <tr>\n",
       "      <th>2221</th>\n",
       "      <td>정인일렉텍 큐브온 핸디형 무선 진공 청소기</td>\n",
       "      <td>차량용청소기 / 무선 / [흡입력] 6,000Pa / [소비전력] 70W / [필터...</td>\n",
       "      <td>53990</td>\n",
       "    </tr>\n",
       "    <tr>\n",
       "      <th>2222</th>\n",
       "      <td>바이거 DEX-WC230</td>\n",
       "      <td>물걸레청소기 / 회전식 / 물걸레전용 / 무선 / [배터리] 사용시간: 1시간20분...</td>\n",
       "      <td>146700</td>\n",
       "    </tr>\n",
       "    <tr>\n",
       "      <th>2223</th>\n",
       "      <td>앤커 무선 핸디형 청소기 유피 홈백 H11</td>\n",
       "      <td>차량용청소기 / 무선 / [흡입력] 5,500Pa / [소비전력] 70W / [필터...</td>\n",
       "      <td>86900</td>\n",
       "    </tr>\n",
       "    <tr>\n",
       "      <th>2224</th>\n",
       "      <td>대우어플라이언스 아쿠아젯 LP-LQ1001</td>\n",
       "      <td>물걸레청소기 / 회전식 / 물걸레전용 / 무선 / [배터리] 충전시간: 5시간 / ...</td>\n",
       "      <td>144150</td>\n",
       "    </tr>\n",
       "  </tbody>\n",
       "</table>\n",
       "<p>2225 rows × 3 columns</p>\n",
       "</div>"
      ],
      "text/plain": [
       "                                0  \\\n",
       "0         삼성전자 비스포크 제트 VS20B956D5   \n",
       "1     LG전자 오브제컬렉션 코드제로 A9S AX9984   \n",
       "2       LG전자 오브제컬렉션 코드제로 AS9202WD   \n",
       "3                     샤오미 드리미 V11   \n",
       "4         삼성전자 비스포크 제트 VS20A956A3   \n",
       "...                           ...   \n",
       "2220             라미 LED차량용 무선 청소기   \n",
       "2221      정인일렉텍 큐브온 핸디형 무선 진공 청소기   \n",
       "2222                바이거 DEX-WC230   \n",
       "2223      앤커 무선 핸디형 청소기 유피 홈백 H11   \n",
       "2224      대우어플라이언스 아쿠아젯 LP-LQ1001   \n",
       "\n",
       "                                                      1        2  \n",
       "0     핸디스틱청소기 / 무선 / 흡입+물걸레겸용 / 흡입력: 220W / [구성] 거치대...   555480  \n",
       "1     핸디스틱청소기 / 무선 / 흡입+물걸레겸용 / 흡입력: 250W / [구성] 거치대...  1136630  \n",
       "2     핸디스틱청소기 / 무선 / 흡입전용 / 흡입력: 210W / [구성] 거치대: 거치...   530620  \n",
       "3     핸디스틱청소기 / 무선 / 흡입전용 / 흡입력: 150AW / 흡입력: 25000P...   179000  \n",
       "4     핸디스틱청소기 / 무선 / 흡입전용 / 흡입력: 210W / [구성] 거치대: 일체...   482660  \n",
       "...                                                 ...      ...  \n",
       "2220  차량용청소기 / 무선 / [흡입력] ~6,000Pa / [필터] 헤파필터 / 스테인...    69000  \n",
       "2221  차량용청소기 / 무선 / [흡입력] 6,000Pa / [소비전력] 70W / [필터...    53990  \n",
       "2222  물걸레청소기 / 회전식 / 물걸레전용 / 무선 / [배터리] 사용시간: 1시간20분...   146700  \n",
       "2223  차량용청소기 / 무선 / [흡입력] 5,500Pa / [소비전력] 70W / [필터...    86900  \n",
       "2224  물걸레청소기 / 회전식 / 물걸레전용 / 무선 / [배터리] 충전시간: 5시간 / ...   144150  \n",
       "\n",
       "[2225 rows x 3 columns]"
      ]
     },
     "execution_count": 100,
     "metadata": {},
     "output_type": "execute_result"
    }
   ],
   "source": [
    "pd.DataFrame(prod_total_data)"
   ]
  },
  {
   "cell_type": "code",
   "execution_count": 97,
   "metadata": {},
   "outputs": [],
   "source": [
    "# 수집데이터 저장\n",
    "df = pd.DataFrame(prod_total_data)\n",
    "df.columns = ['상품명', '스펙목록', '가격']\n",
    "df.to_excel('./1_다나와_무선청소기크롤링결과.xlsx', index=False)"
   ]
  }
 ],
 "metadata": {
  "kernelspec": {
   "display_name": "Python 3",
   "language": "python",
   "name": "python3"
  },
  "language_info": {
   "codemirror_mode": {
    "name": "ipython",
    "version": 3
   },
   "file_extension": ".py",
   "mimetype": "text/x-python",
   "name": "python",
   "nbconvert_exporter": "python",
   "pygments_lexer": "ipython3",
   "version": "3.11.4"
  },
  "orig_nbformat": 4,
  "vscode": {
   "interpreter": {
    "hash": "5238573367df39f7286bb46f9ff5f08f63a01a80960060ce41e3c79b190280fa"
   }
  }
 },
 "nbformat": 4,
 "nbformat_minor": 2
}
