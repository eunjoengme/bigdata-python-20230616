{
  "cells": [
    {
      "cell_type": "code",
      "execution_count": null,
      "metadata": {},
      "outputs": [],
      "source": [
        "# 1번\n",
        "num = input(\"주민번호를 입력하세요('-'를 입력해주세요).\")\n",
        "if num[7]=='1' or num[7]=='3' or num[7]=='5':\n",
        "    print ('남성입니다.')\n",
        "if num[7]=='2' or num[7]=='4' or num[7]=='6':\n",
        "    print ('여성입니다.')\n",
        "else:\n",
        "    print('입력값이 잘못되었습니다.')\n",
        "\n",
        "# 2번\n",
        "week = input(\"요일을 입력하세요\")\n",
        "if week =='MON':\n",
        "    print ('월요일')\n",
        "if week =='TUE':\n",
        "    print ('화요일')\n",
        "if week =='WED':\n",
        "    print ('수요일')\n",
        "if week =='TUR':\n",
        "    print ('목요일')\n",
        "if week =='FRI':\n",
        "    print ('금요일')\n",
        "if week =='SAT':\n",
        "    print ('토요일')\n",
        "if week =='SUN':\n",
        "    print ('일요일')\n",
        "\n",
        "# 3번\n",
        "age = input(\"나이를 입력하세요\")\n",
        "if age < '19':\n",
        "    print('애들은 가라')\n",
        "else:\n",
        "    print('어서오십시오, 손님~!!')\n",
        "\n",
        "# 4번\n",
        "filename = './result.txt'\n",
        "f = open(filename, mode='wt', encoding='utf-8')\n",
        "\n",
        "n = 1\n",
        "while (n>=1 and n<=10000):\n",
        "    if (n % 3 == 0 or n % 5 == 0):\n",
        "        print(n, file=f)\n",
        "    n +=1\n",
        "\n",
        "f.close()\n",
        "print(f'{filename} 이(가) 생성되었습니다')\n",
        "\n",
        "# 5번\n",
        "from datetime import datetime\n",
        "now = datetime.now()\n",
        "print(now.strftime('%Y\\%m-%d %H*%M%%%S'))"
      ]
    }
  ],
  "metadata": {
    "anaconda-cloud": {},
    "kernelspec": {
      "display_name": "Python 3",
      "language": "python",
      "name": "python3"
    },
    "language_info": {
      "codemirror_mode": {
        "name": "ipython",
        "version": 3
      },
      "file_extension": ".py",
      "mimetype": "text/x-python",
      "name": "python",
      "nbconvert_exporter": "python",
      "pygments_lexer": "ipython3",
      "version": "3.11.4 (tags/v3.11.4:d2340ef, Jun  7 2023, 05:45:37) [MSC v.1934 64 bit (AMD64)]"
    },
    "vscode": {
      "interpreter": {
        "hash": "5238573367df39f7286bb46f9ff5f08f63a01a80960060ce41e3c79b190280fa"
      }
    }
  },
  "nbformat": 4,
  "nbformat_minor": 4
}
